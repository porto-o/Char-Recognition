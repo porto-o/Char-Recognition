{
 "cells": [
  {
   "cell_type": "code",
   "execution_count": 1,
   "id": "845262ad",
   "metadata": {},
   "outputs": [],
   "source": [
    "import pandas as pd\n",
    "import numpy as np\n",
    "import matplotlib.pyplot as plt\n",
    "\n",
    "import cv2"
   ]
  },
  {
   "cell_type": "markdown",
   "id": "bae05e09",
   "metadata": {},
   "source": [
    "# Lectura de datos\n",
    "\n",
    "* La primer columna representa el label o etiqueta de letra al que corresponde el vector de la 1:"
   ]
  },
  {
   "cell_type": "code",
   "execution_count": 2,
   "id": "272833f8",
   "metadata": {},
   "outputs": [
    {
     "data": {
      "text/html": [
       "<div>\n",
       "<style scoped>\n",
       "    .dataframe tbody tr th:only-of-type {\n",
       "        vertical-align: middle;\n",
       "    }\n",
       "\n",
       "    .dataframe tbody tr th {\n",
       "        vertical-align: top;\n",
       "    }\n",
       "\n",
       "    .dataframe thead th {\n",
       "        text-align: right;\n",
       "    }\n",
       "</style>\n",
       "<table border=\"1\" class=\"dataframe\">\n",
       "  <thead>\n",
       "    <tr style=\"text-align: right;\">\n",
       "      <th></th>\n",
       "      <th>0</th>\n",
       "      <th>1</th>\n",
       "      <th>2</th>\n",
       "      <th>3</th>\n",
       "      <th>4</th>\n",
       "      <th>5</th>\n",
       "      <th>6</th>\n",
       "      <th>7</th>\n",
       "      <th>8</th>\n",
       "      <th>9</th>\n",
       "      <th>...</th>\n",
       "      <th>775</th>\n",
       "      <th>776</th>\n",
       "      <th>777</th>\n",
       "      <th>778</th>\n",
       "      <th>779</th>\n",
       "      <th>780</th>\n",
       "      <th>781</th>\n",
       "      <th>782</th>\n",
       "      <th>783</th>\n",
       "      <th>784</th>\n",
       "    </tr>\n",
       "  </thead>\n",
       "  <tbody>\n",
       "    <tr>\n",
       "      <th>0</th>\n",
       "      <td>45</td>\n",
       "      <td>0</td>\n",
       "      <td>0</td>\n",
       "      <td>0</td>\n",
       "      <td>0</td>\n",
       "      <td>0</td>\n",
       "      <td>0</td>\n",
       "      <td>0</td>\n",
       "      <td>0</td>\n",
       "      <td>0</td>\n",
       "      <td>...</td>\n",
       "      <td>0</td>\n",
       "      <td>0</td>\n",
       "      <td>0</td>\n",
       "      <td>0</td>\n",
       "      <td>0</td>\n",
       "      <td>0</td>\n",
       "      <td>0</td>\n",
       "      <td>0</td>\n",
       "      <td>0</td>\n",
       "      <td>0</td>\n",
       "    </tr>\n",
       "    <tr>\n",
       "      <th>1</th>\n",
       "      <td>36</td>\n",
       "      <td>0</td>\n",
       "      <td>0</td>\n",
       "      <td>0</td>\n",
       "      <td>0</td>\n",
       "      <td>0</td>\n",
       "      <td>0</td>\n",
       "      <td>0</td>\n",
       "      <td>0</td>\n",
       "      <td>0</td>\n",
       "      <td>...</td>\n",
       "      <td>0</td>\n",
       "      <td>0</td>\n",
       "      <td>0</td>\n",
       "      <td>0</td>\n",
       "      <td>0</td>\n",
       "      <td>0</td>\n",
       "      <td>0</td>\n",
       "      <td>0</td>\n",
       "      <td>0</td>\n",
       "      <td>0</td>\n",
       "    </tr>\n",
       "    <tr>\n",
       "      <th>2</th>\n",
       "      <td>43</td>\n",
       "      <td>0</td>\n",
       "      <td>0</td>\n",
       "      <td>0</td>\n",
       "      <td>0</td>\n",
       "      <td>0</td>\n",
       "      <td>0</td>\n",
       "      <td>0</td>\n",
       "      <td>0</td>\n",
       "      <td>0</td>\n",
       "      <td>...</td>\n",
       "      <td>0</td>\n",
       "      <td>0</td>\n",
       "      <td>0</td>\n",
       "      <td>0</td>\n",
       "      <td>0</td>\n",
       "      <td>0</td>\n",
       "      <td>0</td>\n",
       "      <td>0</td>\n",
       "      <td>0</td>\n",
       "      <td>0</td>\n",
       "    </tr>\n",
       "    <tr>\n",
       "      <th>3</th>\n",
       "      <td>15</td>\n",
       "      <td>0</td>\n",
       "      <td>0</td>\n",
       "      <td>0</td>\n",
       "      <td>0</td>\n",
       "      <td>0</td>\n",
       "      <td>0</td>\n",
       "      <td>0</td>\n",
       "      <td>0</td>\n",
       "      <td>0</td>\n",
       "      <td>...</td>\n",
       "      <td>0</td>\n",
       "      <td>0</td>\n",
       "      <td>0</td>\n",
       "      <td>0</td>\n",
       "      <td>0</td>\n",
       "      <td>0</td>\n",
       "      <td>0</td>\n",
       "      <td>0</td>\n",
       "      <td>0</td>\n",
       "      <td>0</td>\n",
       "    </tr>\n",
       "    <tr>\n",
       "      <th>4</th>\n",
       "      <td>42</td>\n",
       "      <td>0</td>\n",
       "      <td>0</td>\n",
       "      <td>0</td>\n",
       "      <td>0</td>\n",
       "      <td>0</td>\n",
       "      <td>0</td>\n",
       "      <td>0</td>\n",
       "      <td>0</td>\n",
       "      <td>0</td>\n",
       "      <td>...</td>\n",
       "      <td>0</td>\n",
       "      <td>0</td>\n",
       "      <td>0</td>\n",
       "      <td>0</td>\n",
       "      <td>0</td>\n",
       "      <td>0</td>\n",
       "      <td>0</td>\n",
       "      <td>0</td>\n",
       "      <td>0</td>\n",
       "      <td>0</td>\n",
       "    </tr>\n",
       "  </tbody>\n",
       "</table>\n",
       "<p>5 rows × 785 columns</p>\n",
       "</div>"
      ],
      "text/plain": [
       "    0  1  2  3  4  5  6  7  8  9  ...  775  776  777  778  779  780  781  782  \\\n",
       "0  45  0  0  0  0  0  0  0  0  0  ...    0    0    0    0    0    0    0    0   \n",
       "1  36  0  0  0  0  0  0  0  0  0  ...    0    0    0    0    0    0    0    0   \n",
       "2  43  0  0  0  0  0  0  0  0  0  ...    0    0    0    0    0    0    0    0   \n",
       "3  15  0  0  0  0  0  0  0  0  0  ...    0    0    0    0    0    0    0    0   \n",
       "4  42  0  0  0  0  0  0  0  0  0  ...    0    0    0    0    0    0    0    0   \n",
       "\n",
       "   783  784  \n",
       "0    0    0  \n",
       "1    0    0  \n",
       "2    0    0  \n",
       "3    0    0  \n",
       "4    0    0  \n",
       "\n",
       "[5 rows x 785 columns]"
      ]
     },
     "execution_count": 2,
     "metadata": {},
     "output_type": "execute_result"
    }
   ],
   "source": [
    "df = pd.read_csv('emnist_short.csv')\n",
    "\n",
    "\n",
    "df.head()"
   ]
  },
  {
   "cell_type": "markdown",
   "id": "5ec832ca",
   "metadata": {},
   "source": [
    "# Creación de subconjuntos\n",
    "*\n",
    "* 7x7\n",
    "* 10x10\n",
    "* 15x15"
   ]
  },
  {
   "cell_type": "code",
   "execution_count": 3,
   "id": "144930aa",
   "metadata": {},
   "outputs": [],
   "source": [
    "def reshape_img(row, dim):\n",
    "    \"\"\"\n",
    "        Toma el vector de la imagen original (flatten) y lo convierte a una matriz de 28x28\n",
    "        Usando cv2, se usa esa matriz de 28x28 para convertirla a dimXdim\n",
    "        Luego, se rota 90 grados\n",
    "    \"\"\"\n",
    "    original = row.values.reshape(28, 28).astype(np.uint8)\n",
    "    resized = cv2.resize(original, (dim, dim), interpolation=cv2.INTER_AREA)\n",
    "    resized = np.rot90(resized)\n",
    "    return resized"
   ]
  },
  {
   "cell_type": "markdown",
   "id": "7248cea1",
   "metadata": {},
   "source": [
    "aqui se cambia el número de letras"
   ]
  },
  {
   "cell_type": "code",
   "execution_count": null,
   "id": "ec147990",
   "metadata": {},
   "outputs": [],
   "source": [
    "def create_subset(df, tamaño, finish_index):\n",
    "    subset = df.iloc[0:finish_index+1, :]\n",
    "    return pd.DataFrame({\n",
    "        'label': subset.iloc[:, 0],\n",
    "        'image': subset.iloc[:, 1:].apply(lambda row: reshape_img(row, tamaño), axis=1)\n",
    "    })\n",
    "\n",
    "finish_index = 13\n",
    "\n",
    "df_7 = create_subset(df, 7, finish_index)\n",
    "df_10 = create_subset(df, 10, finish_index)\n",
    "df_15 = create_subset(df, 15, finish_index)\n"
   ]
  },
  {
   "cell_type": "code",
   "execution_count": 5,
   "id": "8431f0ed",
   "metadata": {},
   "outputs": [
    {
     "data": {
      "text/html": [
       "<div>\n",
       "<style scoped>\n",
       "    .dataframe tbody tr th:only-of-type {\n",
       "        vertical-align: middle;\n",
       "    }\n",
       "\n",
       "    .dataframe tbody tr th {\n",
       "        vertical-align: top;\n",
       "    }\n",
       "\n",
       "    .dataframe thead th {\n",
       "        text-align: right;\n",
       "    }\n",
       "</style>\n",
       "<table border=\"1\" class=\"dataframe\">\n",
       "  <thead>\n",
       "    <tr style=\"text-align: right;\">\n",
       "      <th></th>\n",
       "      <th>label</th>\n",
       "      <th>image</th>\n",
       "    </tr>\n",
       "  </thead>\n",
       "  <tbody>\n",
       "    <tr>\n",
       "      <th>10</th>\n",
       "      <td>15</td>\n",
       "      <td>[[0, 2, 52, 0, 0, 0, 0], [0, 28, 174, 0, 0, 0,...</td>\n",
       "    </tr>\n",
       "  </tbody>\n",
       "</table>\n",
       "</div>"
      ],
      "text/plain": [
       "    label                                              image\n",
       "10     15  [[0, 2, 52, 0, 0, 0, 0], [0, 28, 174, 0, 0, 0,..."
      ]
     },
     "execution_count": 5,
     "metadata": {},
     "output_type": "execute_result"
    }
   ],
   "source": [
    "df_7.head(1)"
   ]
  },
  {
   "cell_type": "code",
   "execution_count": 6,
   "id": "280456a5",
   "metadata": {},
   "outputs": [
    {
     "data": {
      "text/html": [
       "<div>\n",
       "<style scoped>\n",
       "    .dataframe tbody tr th:only-of-type {\n",
       "        vertical-align: middle;\n",
       "    }\n",
       "\n",
       "    .dataframe tbody tr th {\n",
       "        vertical-align: top;\n",
       "    }\n",
       "\n",
       "    .dataframe thead th {\n",
       "        text-align: right;\n",
       "    }\n",
       "</style>\n",
       "<table border=\"1\" class=\"dataframe\">\n",
       "  <thead>\n",
       "    <tr style=\"text-align: right;\">\n",
       "      <th></th>\n",
       "      <th>label</th>\n",
       "      <th>image</th>\n",
       "    </tr>\n",
       "  </thead>\n",
       "  <tbody>\n",
       "    <tr>\n",
       "      <th>10</th>\n",
       "      <td>15</td>\n",
       "      <td>[[0, 0, 4, 20, 0, 0, 0, 0, 0, 0], [0, 0, 53, 1...</td>\n",
       "    </tr>\n",
       "  </tbody>\n",
       "</table>\n",
       "</div>"
      ],
      "text/plain": [
       "    label                                              image\n",
       "10     15  [[0, 0, 4, 20, 0, 0, 0, 0, 0, 0], [0, 0, 53, 1..."
      ]
     },
     "execution_count": 6,
     "metadata": {},
     "output_type": "execute_result"
    }
   ],
   "source": [
    "df_10.head(1)"
   ]
  },
  {
   "cell_type": "code",
   "execution_count": 7,
   "id": "2adc8895",
   "metadata": {},
   "outputs": [
    {
     "data": {
      "text/html": [
       "<div>\n",
       "<style scoped>\n",
       "    .dataframe tbody tr th:only-of-type {\n",
       "        vertical-align: middle;\n",
       "    }\n",
       "\n",
       "    .dataframe tbody tr th {\n",
       "        vertical-align: top;\n",
       "    }\n",
       "\n",
       "    .dataframe thead th {\n",
       "        text-align: right;\n",
       "    }\n",
       "</style>\n",
       "<table border=\"1\" class=\"dataframe\">\n",
       "  <thead>\n",
       "    <tr style=\"text-align: right;\">\n",
       "      <th></th>\n",
       "      <th>label</th>\n",
       "      <th>image</th>\n",
       "    </tr>\n",
       "  </thead>\n",
       "  <tbody>\n",
       "    <tr>\n",
       "      <th>10</th>\n",
       "      <td>15</td>\n",
       "      <td>[[0, 0, 0, 0, 1, 0, 0, 0, 0, 0, 0, 0, 0, 0, 0]...</td>\n",
       "    </tr>\n",
       "  </tbody>\n",
       "</table>\n",
       "</div>"
      ],
      "text/plain": [
       "    label                                              image\n",
       "10     15  [[0, 0, 0, 0, 1, 0, 0, 0, 0, 0, 0, 0, 0, 0, 0]..."
      ]
     },
     "execution_count": 7,
     "metadata": {},
     "output_type": "execute_result"
    }
   ],
   "source": [
    "df_15.head(1)"
   ]
  },
  {
   "cell_type": "code",
   "execution_count": 8,
   "id": "49822e3b",
   "metadata": {},
   "outputs": [
    {
     "data": {
      "image/png": "[encoded data removed]",
      "text/plain": [
       "<Figure size 640x480 with 1 Axes>"
      ]
     },
     "metadata": {},
     "output_type": "display_data"
    }
   ],
   "source": [
    "plt.imshow(df_15.iloc[0, 1], cmap='gray')\n",
    "plt.show()"
   ]
  },
  {
   "cell_type": "markdown",
   "id": "de72c4ee",
   "metadata": {},
   "source": [
    "# Bipolarización de datos (-1, 1)\n",
    "\n",
    "* Se evalúa cada pixel de la imagen y si es mayor a un thresehold se vuelve 1, de lo contrario -1"
   ]
  },
  {
   "cell_type": "code",
   "execution_count": 9,
   "id": "50f8f5b3",
   "metadata": {},
   "outputs": [],
   "source": [
    "def make_bipolar(row, thereshold):\n",
    "    return np.where(row < thereshold, -1, 1)\n",
    "\n",
    "dfs = [df_7, df_10, df_15]\n",
    "bin_dfs = []\n",
    "\n",
    "for df in dfs:\n",
    "    df_bin = pd.DataFrame({\n",
    "        'label': df['label'],\n",
    "        'image': df['image'].apply(make_bipolar, thereshold=40)\n",
    "    })\n",
    "    \n",
    "    bin_dfs.append(df_bin)\n",
    "\n",
    "dfb_7, dfb_10, dfb_15 = bin_dfs"
   ]
  },
  {
   "cell_type": "code",
   "execution_count": 10,
   "id": "bf126673",
   "metadata": {},
   "outputs": [
    {
     "data": {
      "text/html": [
       "<div>\n",
       "<style scoped>\n",
       "    .dataframe tbody tr th:only-of-type {\n",
       "        vertical-align: middle;\n",
       "    }\n",
       "\n",
       "    .dataframe tbody tr th {\n",
       "        vertical-align: top;\n",
       "    }\n",
       "\n",
       "    .dataframe thead th {\n",
       "        text-align: right;\n",
       "    }\n",
       "</style>\n",
       "<table border=\"1\" class=\"dataframe\">\n",
       "  <thead>\n",
       "    <tr style=\"text-align: right;\">\n",
       "      <th></th>\n",
       "      <th>label</th>\n",
       "      <th>image</th>\n",
       "    </tr>\n",
       "  </thead>\n",
       "  <tbody>\n",
       "    <tr>\n",
       "      <th>10</th>\n",
       "      <td>15</td>\n",
       "      <td>[[-1, -1, -1, -1, -1, -1, -1, -1, -1, -1, -1, ...</td>\n",
       "    </tr>\n",
       "  </tbody>\n",
       "</table>\n",
       "</div>"
      ],
      "text/plain": [
       "    label                                              image\n",
       "10     15  [[-1, -1, -1, -1, -1, -1, -1, -1, -1, -1, -1, ..."
      ]
     },
     "execution_count": 10,
     "metadata": {},
     "output_type": "execute_result"
    }
   ],
   "source": [
    "dfb_15.head(1)"
   ]
  },
  {
   "cell_type": "code",
   "execution_count": 11,
   "id": "51019edc",
   "metadata": {},
   "outputs": [
    {
     "data": {
      "image/png": "[encoded data removed]",
      "text/plain": [
       "<Figure size 640x480 with 1 Axes>"
      ]
     },
     "metadata": {},
     "output_type": "display_data"
    }
   ],
   "source": [
    "plt.imshow(dfb_15.iloc[0, 1], cmap='gray')\n",
    "plt.show()"
   ]
  },
  {
   "cell_type": "markdown",
   "id": "1d5bf023",
   "metadata": {},
   "source": [
    "# 2. Red de Hopfield Sincrónica\n",
    "\n",
    "* Se hacen los cálculos uno por uno\n",
    "\n",
    "Se usarán los datos a partir del registro 10, de uno en uno para ver en donde comienza a fallar"
   ]
  },
  {
   "cell_type": "code",
   "execution_count": 12,
   "id": "ad1a410b",
   "metadata": {},
   "outputs": [],
   "source": [
    "def train_hopfield(patterns):\n",
    "    n = patterns.shape[1]\n",
    "    W = np.zeros((n, n))\n",
    "\n",
    "    for pattern in patterns:\n",
    "        W += np.outer(pattern, pattern)\n",
    "\n",
    "    np.fill_diagonal(W, 0)\n",
    "    \n",
    "    return W"
   ]
  },
  {
   "cell_type": "code",
   "execution_count": 13,
   "id": "94421f30",
   "metadata": {},
   "outputs": [],
   "source": [
    "weigths = []\n",
    "\n",
    "for dfb in [dfb_7, dfb_10, dfb_15]:\n",
    "    # Por cada df, obtenemos su matriz de pesos\n",
    "    # train_hopfield recibe un arreglo de numpy\n",
    "    # Este arreglo debe de estar aplanado y dado en una matriz bidimensional\n",
    "    # Esto apra sacar el número de neuronas igual a las \n",
    "    # columnas totales de cada patrón\n",
    "    dfb['flat'] = dfb['image'].apply(lambda x: np.array(x).flatten())\n",
    "\n",
    "    patterns = np.stack(dfb['flat'].to_numpy())\n",
    "    W = train_hopfield(patterns)\n",
    "\n",
    "    weigths.append(W)\n",
    "\n",
    "w7, w10, w15 = weigths"
   ]
  },
  {
   "cell_type": "code",
   "execution_count": 14,
   "id": "ab8d9ae7",
   "metadata": {},
   "outputs": [
    {
     "data": {
      "text/html": [
       "<div>\n",
       "<style scoped>\n",
       "    .dataframe tbody tr th:only-of-type {\n",
       "        vertical-align: middle;\n",
       "    }\n",
       "\n",
       "    .dataframe tbody tr th {\n",
       "        vertical-align: top;\n",
       "    }\n",
       "\n",
       "    .dataframe thead th {\n",
       "        text-align: right;\n",
       "    }\n",
       "</style>\n",
       "<table border=\"1\" class=\"dataframe\">\n",
       "  <thead>\n",
       "    <tr style=\"text-align: right;\">\n",
       "      <th></th>\n",
       "      <th>label</th>\n",
       "      <th>image</th>\n",
       "      <th>flat</th>\n",
       "    </tr>\n",
       "  </thead>\n",
       "  <tbody>\n",
       "    <tr>\n",
       "      <th>10</th>\n",
       "      <td>15</td>\n",
       "      <td>[[-1, -1, -1, -1, -1, -1, -1, -1, -1, -1, -1, ...</td>\n",
       "      <td>[-1, -1, -1, -1, -1, -1, -1, -1, -1, -1, -1, -...</td>\n",
       "    </tr>\n",
       "    <tr>\n",
       "      <th>11</th>\n",
       "      <td>13</td>\n",
       "      <td>[[-1, -1, -1, -1, -1, -1, -1, -1, -1, -1, -1, ...</td>\n",
       "      <td>[-1, -1, -1, -1, -1, -1, -1, -1, -1, -1, -1, -...</td>\n",
       "    </tr>\n",
       "    <tr>\n",
       "      <th>12</th>\n",
       "      <td>24</td>\n",
       "      <td>[[-1, -1, -1, -1, -1, -1, -1, -1, -1, -1, -1, ...</td>\n",
       "      <td>[-1, -1, -1, -1, -1, -1, -1, -1, -1, -1, -1, -...</td>\n",
       "    </tr>\n",
       "    <tr>\n",
       "      <th>13</th>\n",
       "      <td>12</td>\n",
       "      <td>[[-1, -1, -1, -1, -1, -1, -1, -1, -1, -1, -1, ...</td>\n",
       "      <td>[-1, -1, -1, -1, -1, -1, -1, -1, -1, -1, -1, -...</td>\n",
       "    </tr>\n",
       "  </tbody>\n",
       "</table>\n",
       "</div>"
      ],
      "text/plain": [
       "    label                                              image  \\\n",
       "10     15  [[-1, -1, -1, -1, -1, -1, -1, -1, -1, -1, -1, ...   \n",
       "11     13  [[-1, -1, -1, -1, -1, -1, -1, -1, -1, -1, -1, ...   \n",
       "12     24  [[-1, -1, -1, -1, -1, -1, -1, -1, -1, -1, -1, ...   \n",
       "13     12  [[-1, -1, -1, -1, -1, -1, -1, -1, -1, -1, -1, ...   \n",
       "\n",
       "                                                 flat  \n",
       "10  [-1, -1, -1, -1, -1, -1, -1, -1, -1, -1, -1, -...  \n",
       "11  [-1, -1, -1, -1, -1, -1, -1, -1, -1, -1, -1, -...  \n",
       "12  [-1, -1, -1, -1, -1, -1, -1, -1, -1, -1, -1, -...  \n",
       "13  [-1, -1, -1, -1, -1, -1, -1, -1, -1, -1, -1, -...  "
      ]
     },
     "execution_count": 14,
     "metadata": {},
     "output_type": "execute_result"
    }
   ],
   "source": [
    "dfb_15"
   ]
  },
  {
   "cell_type": "code",
   "execution_count": 15,
   "id": "768940e9",
   "metadata": {},
   "outputs": [],
   "source": [
    "def sign(x):\n",
    "    return np.where(x >= 0, 1, -1)\n",
    "    \n",
    "def retrieve_hopfield(W, pattern, max_iter=100):\n",
    "\n",
    "    for i in range(max_iter):\n",
    "        updated = sign(W @ pattern)\n",
    "        \n",
    "        if np.array_equal(updated, pattern):\n",
    "            break\n",
    "        \n",
    "        pattern = updated\n",
    "\n",
    "    return pattern"
   ]
  },
  {
   "cell_type": "code",
   "execution_count": 16,
   "id": "0be76477",
   "metadata": {},
   "outputs": [],
   "source": [
    "def add_noise(pattern, noise_level):\n",
    "    n = len(pattern)\n",
    "\n",
    "    num_flips = int(noise_level * n)\n",
    "    flip_indices = np.random.choice(n, num_flips, replace=False)\n",
    "\n",
    "    pattern[flip_indices] *= -1\n",
    "\n",
    "    return pattern"
   ]
  },
  {
   "cell_type": "markdown",
   "id": "5e3cfaca",
   "metadata": {},
   "source": [
    "# 3. Red Hebbiana Clásica\n",
    "\n",
    "Se implementa una red auto-asociativa no recurrente"
   ]
  },
  {
   "cell_type": "code",
   "execution_count": 17,
   "id": "25e587c5",
   "metadata": {},
   "outputs": [],
   "source": [
    "def classic_hebb(X):\n",
    "    X_pinv = np.linalg.pinv(X)  \n",
    "    W = X_pinv @ X\n",
    "\n",
    "    return W\n",
    "\n",
    "#classic_hebb(X)\n",
    "#y_recuperado = x @ W"
   ]
  },
  {
   "cell_type": "markdown",
   "id": "3feb5815",
   "metadata": {},
   "source": [
    "# 4. Experimentos de almacenamiento"
   ]
  },
  {
   "cell_type": "markdown",
   "id": "201914bd",
   "metadata": {},
   "source": [
    "# 5. Evaluación de tolerancia al ruido"
   ]
  },
  {
   "cell_type": "markdown",
   "id": "617aed7c",
   "metadata": {},
   "source": [
    "# 6. Comparación de Hopfield vs Clásica\n",
    "\n",
    "* Recuperación\n",
    "* Almacenamiento\n",
    "* Tolerancia al ruido"
   ]
  },
  {
   "cell_type": "markdown",
   "id": "b2af7548",
   "metadata": {},
   "source": [
    "# 7. Análisis Estadístico\n",
    "\n",
    "* Medidas estadísticas\n",
    "* Gráfica de tasa de recuperación vs número de patrones almacenados y nivel de ruido"
   ]
  },
  {
   "cell_type": "code",
   "execution_count": 22,
   "id": "9c7c3909",
   "metadata": {},
   "outputs": [
    {
     "data": {
      "image/png": "[encoded data removed]",
      "text/plain": [
       "<Figure size 900x300 with 3 Axes>"
      ]
     },
     "metadata": {},
     "output_type": "display_data"
    }
   ],
   "source": [
    "def show_comparison(original_img, noisy_flat, recovered_flat):\n",
    "    fig, axes = plt.subplots(1, 3, figsize=(9, 3))\n",
    "    titles = [\"Original\", \"Con ruido\", \"Recuperado\"]\n",
    "    images = [\n",
    "        np.array(original_img),\n",
    "        np.array(noisy_flat).reshape((15,15)),\n",
    "        np.array(recovered_flat).reshape((15,15))\n",
    "    ]\n",
    "\n",
    "    for ax, img, title in zip(axes, images, titles):\n",
    "        ax.imshow(img, cmap=\"gray\", vmin=-1, vmax=1)\n",
    "        ax.set_title(title)\n",
    "        ax.axis(\"off\")\n",
    "\n",
    "    plt.tight_layout()\n",
    "    plt.show()\n",
    "\n",
    "original_img = dfb_15.iloc[1, 1]\n",
    "original_flat = np.array(dfb_15.iloc[1, 2])\n",
    "noisy_flat = add_noise(original_flat, noise_level=0.1)\n",
    "recovered_flat = retrieve_hopfield(w15, noisy_flat)\n",
    "\n",
    "show_comparison(original_img, noisy_flat, recovered_flat)"
   ]
  },
  {
   "cell_type": "code",
   "execution_count": null,
   "id": "ae9157fd",
   "metadata": {},
   "outputs": [],
   "source": []
  }
 ],
 "metadata": {
  "kernelspec": {
   "display_name": ".venv",
   "language": "python",
   "name": "python3"
  },
  "language_info": {
   "codemirror_mode": {
    "name": "ipython",
    "version": 3
   },
   "file_extension": ".py",
   "mimetype": "text/x-python",
   "name": "python",
   "nbconvert_exporter": "python",
   "pygments_lexer": "ipython3",
   "version": "3.13.3"
  }
 },
 "nbformat": 4,
 "nbformat_minor": 5
}
